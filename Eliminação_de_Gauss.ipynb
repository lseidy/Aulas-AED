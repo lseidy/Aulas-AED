{
  "nbformat": 4,
  "nbformat_minor": 0,
  "metadata": {
    "colab": {
      "provenance": [],
      "authorship_tag": "ABX9TyPL8e/DfqixNBZGrahLuMvK"
    },
    "kernelspec": {
      "name": "python3",
      "display_name": "Python 3"
    },
    "language_info": {
      "name": "python"
    }
  },
  "cells": [
    {
      "cell_type": "markdown",
      "source": [
        "### Gauss Sem Pivotamento"
      ],
      "metadata": {
        "id": "KZSplUW-gQp3"
      }
    },
    {
      "cell_type": "code",
      "source": [
        "import numpy as np\n",
        "from numpy.linalg import inv\n",
        "import math\n",
        "from sympy import symbols, solve"
      ],
      "metadata": {
        "id": "oV_LWVlxOika"
      },
      "execution_count": null,
      "outputs": []
    },
    {
      "cell_type": "code",
      "source": [
        "#Entrada da matriz\n",
        "A = np.array([[2,3,-1,5],[4,4,-3,3],[2,-3,1,-1]])\n",
        "#A = np.array([[0,1,3,2,4,3],[8,-2,9,-1,2,-5],[5,1,1,7,2,6],[-2,4,3,1,0,-1],[7,-3,2,-4,1,8]])\n",
        "B = np.array([[1.5,5.4,3.3,10], [4.2,2.3,4.5,11.7],[2.7,5.7,7.8,8.9]])"
      ],
      "metadata": {
        "id": "AAS0qS0XK8wm"
      },
      "execution_count": null,
      "outputs": []
    },
    {
      "cell_type": "code",
      "execution_count": null,
      "metadata": {
        "id": "1CZvs78ngNj1"
      },
      "outputs": [],
      "source": [
        "def metGauss(A,p):\n",
        "  k=0\n",
        "\n",
        "  #Faz 1 tratamento para zerar valores na matriz abaixo da diagonal\n",
        "  for i in A:\n",
        "    n=0\n",
        "    if k > 0:\n",
        "      m = A[k,0]/A[0,0]  \n",
        "      for j in i:\n",
        "        if k > 0:\n",
        "          A[k,n] = j - m*A[0,n]\n",
        "        n = n+1\n",
        "\n",
        "   # Iteração de ajuste para formar triangulo superior para linhas\n",
        "   # que precisam ser tratadas mais de 1 vez  \n",
        "      \n",
        "      if k > 1:\n",
        "        n=0\n",
        "        m_1 = A[k,k-1]/A[k-1,k-1]\n",
        "\n",
        "        for j in i:                              \n",
        "          A[k,n] = j - m_1*A[k-1,n]\n",
        "          n = n+1\n",
        "    k=k+1\n",
        "\n",
        "  #print(A)\n",
        "\n",
        "    #Resolução do Sistema de Equações\n",
        "  k = len(A)\n",
        "  i=0\n",
        "  B =[]\n",
        "  new_A=[]\n",
        "\n",
        "  while (i < k): \n",
        "\n",
        "    B = np.append(B, A[i, k])\n",
        "    n=0\n",
        "    aux=[]\n",
        "\n",
        "    while(n < k):\n",
        "      if i == 0:\n",
        "        new_A = np.append(new_A,A[i,n])    \n",
        "      else:\n",
        "        aux = np.append(aux, A[i,n])\n",
        "      n=n+1\n",
        "    if i >0:\n",
        "      new_A = np.vstack([new_A,aux])\n",
        "    i = i+1\n",
        "  \n",
        "  X = inv(new_A)\n",
        "  S = np.matmul(X,B)\n",
        "  print(S) \n",
        "  #print(B)\n",
        "  #print(new_A)\n",
        "\n"
      ]
    },
    {
      "cell_type": "code",
      "source": [
        "metGauss(A,0)"
      ],
      "metadata": {
        "colab": {
          "base_uri": "https://localhost:8080/"
        },
        "id": "RL2OIFOsZU14",
        "outputId": "2f210232-391e-4d07-8627-ef82220e6016"
      },
      "execution_count": null,
      "outputs": [
        {
          "output_type": "stream",
          "name": "stdout",
          "text": [
            "[1. 2. 3.]\n"
          ]
        }
      ]
    }
  ]
}